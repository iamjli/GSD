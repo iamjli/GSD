{
 "cells": [
  {
   "cell_type": "code",
   "execution_count": 1,
   "metadata": {
    "scrolled": false
   },
   "outputs": [],
   "source": [
    "%load_ext autoreload\n",
    "%autoreload 2"
   ]
  },
  {
   "cell_type": "code",
   "execution_count": 2,
   "metadata": {},
   "outputs": [],
   "source": [
    "import sys, os\n",
    "import json\n",
    "import logging\n",
    "import multiprocessing\n",
    "from functools import partial\n",
    "\n",
    "# Data processing\n",
    "import pandas as pd\n",
    "import numpy as np\n",
    "from sklearn.model_selection import ParameterGrid\n",
    "\n",
    "# Networks\n",
    "import networkx as nx\n",
    "\n",
    "# Modules\n",
    "sys.path.insert(0, '../scripts')\n",
    "from evaluate import Evaluate\n",
    "from gsd import GSD"
   ]
  },
  {
   "cell_type": "markdown",
   "metadata": {},
   "source": [
    "### Directory setup"
   ]
  },
  {
   "cell_type": "code",
   "execution_count": 3,
   "metadata": {},
   "outputs": [],
   "source": [
    "home_dir = \"../evaluation_clean/\"\n",
    "data_param_file = os.path.join(home_dir, \"data_specs.json\")\n",
    "model_param_file = os.path.join(home_dir, \"model_specs.json\")"
   ]
  },
  {
   "cell_type": "markdown",
   "metadata": {},
   "source": [
    "### Instantiate Evaluation object "
   ]
  },
  {
   "cell_type": "code",
   "execution_count": 4,
   "metadata": {
    "scrolled": true
   },
   "outputs": [
    {
     "name": "stdout",
     "output_type": "stream",
     "text": [
      "Number of datasets: 6\n"
     ]
    }
   ],
   "source": [
    "e = Evaluate(home_dir, data_param_file, model_param_file)"
   ]
  },
  {
   "cell_type": "markdown",
   "metadata": {},
   "source": [
    "### Generate synthetic data, or load if file exists already"
   ]
  },
  {
   "cell_type": "code",
   "execution_count": 7,
   "metadata": {},
   "outputs": [
    {
     "name": "stderr",
     "output_type": "stream",
     "text": [
      "04:16:15 - Evaluate: INFO - Wrote data matrix: ../evaluation_clean/data/data_matrices/D_5_100_1_Z_20_5_1_noise_0.npy.\n",
      "04:16:16 - Evaluate: INFO - Wrote data matrix: ../evaluation_clean/data/data_matrices/D_5_100_2_Z_20_5_2_noise_0.npy.\n",
      "04:16:16 - Evaluate: INFO - Wrote data matrix: ../evaluation_clean/data/data_matrices/D_5_100_1_Z_20_5_1_noise_0.2.npy.\n",
      "04:16:16 - Evaluate: INFO - Wrote data matrix: ../evaluation_clean/data/data_matrices/D_5_100_2_Z_20_5_2_noise_0.2.npy.\n",
      "04:16:16 - Evaluate: INFO - Wrote data matrix: ../evaluation_clean/data/data_matrices/D_5_100_1_Z_20_5_1_noise_0.4.npy.\n",
      "04:16:16 - Evaluate: INFO - Wrote data matrix: ../evaluation_clean/data/data_matrices/D_5_100_2_Z_20_5_2_noise_0.4.npy.\n"
     ]
    }
   ],
   "source": [
    "e.initialize_data()"
   ]
  },
  {
   "cell_type": "markdown",
   "metadata": {},
   "source": [
    "### Run models on each dataset and save results"
   ]
  },
  {
   "cell_type": "code",
   "execution_count": 8,
   "metadata": {},
   "outputs": [
    {
     "name": "stderr",
     "output_type": "stream",
     "text": [
      "04:16:24 - Evaluate: INFO - Running ICA1 with parameters: {'cutoff': 0.01, 'n_components': 10, 'method': 'ICA1'}\n",
      "/nfs/latdata/iamjli/projects/GSD/venv/lib/python3.6/site-packages/sklearn/decomposition/fastica_.py:121: ConvergenceWarning: FastICA did not converge. Consider increasing tolerance or the maximum number of iterations.\n",
      "  ConvergenceWarning)\n",
      "04:17:21 - Models: INFO - Run complete, results written to: ../evaluation_clean/results/ICA1_10_0.01/D_5_100_2_Z_20_5_2_noise_0.npy\n",
      "/nfs/latdata/iamjli/projects/GSD/venv/lib/python3.6/site-packages/sklearn/decomposition/fastica_.py:121: ConvergenceWarning: FastICA did not converge. Consider increasing tolerance or the maximum number of iterations.\n",
      "  ConvergenceWarning)\n",
      "04:17:30 - Models: INFO - Run complete, results written to: ../evaluation_clean/results/ICA1_10_0.01/D_5_100_1_Z_20_5_1_noise_0.npy\n",
      "/nfs/latdata/iamjli/projects/GSD/venv/lib/python3.6/site-packages/sklearn/decomposition/fastica_.py:121: ConvergenceWarning: FastICA did not converge. Consider increasing tolerance or the maximum number of iterations.\n",
      "  ConvergenceWarning)\n",
      "04:17:33 - Models: INFO - Run complete, results written to: ../evaluation_clean/results/ICA1_10_0.01/D_5_100_1_Z_20_5_1_noise_0.4.npy\n",
      "/nfs/latdata/iamjli/projects/GSD/venv/lib/python3.6/site-packages/sklearn/decomposition/fastica_.py:121: ConvergenceWarning: FastICA did not converge. Consider increasing tolerance or the maximum number of iterations.\n",
      "  ConvergenceWarning)\n",
      "04:17:35 - Models: INFO - Run complete, results written to: ../evaluation_clean/results/ICA1_10_0.01/D_5_100_2_Z_20_5_2_noise_0.2.npy\n",
      "/nfs/latdata/iamjli/projects/GSD/venv/lib/python3.6/site-packages/sklearn/decomposition/fastica_.py:121: ConvergenceWarning: FastICA did not converge. Consider increasing tolerance or the maximum number of iterations.\n",
      "  ConvergenceWarning)\n",
      "04:17:36 - Models: INFO - Run complete, results written to: ../evaluation_clean/results/ICA1_10_0.01/D_5_100_2_Z_20_5_2_noise_0.4.npy\n",
      "/nfs/latdata/iamjli/projects/GSD/venv/lib/python3.6/site-packages/sklearn/decomposition/fastica_.py:121: ConvergenceWarning: FastICA did not converge. Consider increasing tolerance or the maximum number of iterations.\n",
      "  ConvergenceWarning)\n",
      "04:17:36 - Models: INFO - Run complete, results written to: ../evaluation_clean/results/ICA1_10_0.01/D_5_100_1_Z_20_5_1_noise_0.2.npy\n",
      "04:17:36 - Evaluate: INFO - Running GSD with parameters: {'a': 0.1, 'edge_file': '/nfs/latdata/iamjli/projects/GSD/evaluation_clean/test_edgelist.tsv', 'initializer': 'ica', 'n_components': 3, 'n_iterations': 5, 'method': 'GSD'}\n",
      "/nfs/latdata/iamjli/projects/GSD/venv/lib/python3.6/site-packages/sklearn/decomposition/fastica_.py:121: ConvergenceWarning: FastICA did not converge. Consider increasing tolerance or the maximum number of iterations.\n",
      "  ConvergenceWarning)\n",
      "04:17:54 - Models: INFO - Run complete, results written to: ../evaluation_clean/results/GSD_0.1_3_ica_5/D_5_100_1_Z_20_5_1_noise_0.npy\n",
      "04:17:56 - Models: INFO - Run complete, results written to: ../evaluation_clean/results/GSD_0.1_3_ica_5/D_5_100_2_Z_20_5_2_noise_0.npy\n",
      "04:18:00 - Models: INFO - Run complete, results written to: ../evaluation_clean/results/GSD_0.1_3_ica_5/D_5_100_1_Z_20_5_1_noise_0.2.npy\n",
      "04:18:01 - Models: INFO - Run complete, results written to: ../evaluation_clean/results/GSD_0.1_3_ica_5/D_5_100_2_Z_20_5_2_noise_0.2.npy\n",
      "04:18:01 - Models: INFO - Run complete, results written to: ../evaluation_clean/results/GSD_0.1_3_ica_5/D_5_100_2_Z_20_5_2_noise_0.4.npy\n",
      "04:18:01 - Models: INFO - Run complete, results written to: ../evaluation_clean/results/GSD_0.1_3_ica_5/D_5_100_1_Z_20_5_1_noise_0.4.npy\n"
     ]
    }
   ],
   "source": [
    "for model_params in e.model_paramlist: \n",
    "    e.run_grid(model_params)"
   ]
  },
  {
   "cell_type": "markdown",
   "metadata": {},
   "source": [
    "### Merge all results"
   ]
  },
  {
   "cell_type": "code",
   "execution_count": 9,
   "metadata": {},
   "outputs": [
    {
     "data": {
      "text/html": [
       "<div>\n",
       "<style scoped>\n",
       "    .dataframe tbody tr th:only-of-type {\n",
       "        vertical-align: middle;\n",
       "    }\n",
       "\n",
       "    .dataframe tbody tr th {\n",
       "        vertical-align: top;\n",
       "    }\n",
       "\n",
       "    .dataframe thead th {\n",
       "        text-align: right;\n",
       "    }\n",
       "</style>\n",
       "<table border=\"1\" class=\"dataframe\">\n",
       "  <thead>\n",
       "    <tr style=\"text-align: right;\">\n",
       "      <th></th>\n",
       "      <th>F1rr</th>\n",
       "      <th>model</th>\n",
       "      <th>n_samples</th>\n",
       "      <th>n_sources</th>\n",
       "      <th>noise</th>\n",
       "      <th>recovery</th>\n",
       "      <th>relevance</th>\n",
       "      <th>rep</th>\n",
       "      <th>size</th>\n",
       "    </tr>\n",
       "  </thead>\n",
       "  <tbody>\n",
       "    <tr>\n",
       "      <th>0</th>\n",
       "      <td>0.770005</td>\n",
       "      <td>ICA1_10_0.01</td>\n",
       "      <td>20</td>\n",
       "      <td>5</td>\n",
       "      <td>0.0</td>\n",
       "      <td>0.981506</td>\n",
       "      <td>0.633496</td>\n",
       "      <td>1</td>\n",
       "      <td>100</td>\n",
       "    </tr>\n",
       "    <tr>\n",
       "      <th>1</th>\n",
       "      <td>0.774671</td>\n",
       "      <td>ICA1_10_0.01</td>\n",
       "      <td>20</td>\n",
       "      <td>5</td>\n",
       "      <td>0.0</td>\n",
       "      <td>0.984502</td>\n",
       "      <td>0.638569</td>\n",
       "      <td>2</td>\n",
       "      <td>100</td>\n",
       "    </tr>\n",
       "    <tr>\n",
       "      <th>2</th>\n",
       "      <td>0.118007</td>\n",
       "      <td>ICA1_10_0.01</td>\n",
       "      <td>20</td>\n",
       "      <td>5</td>\n",
       "      <td>0.2</td>\n",
       "      <td>0.222795</td>\n",
       "      <td>0.080259</td>\n",
       "      <td>1</td>\n",
       "      <td>100</td>\n",
       "    </tr>\n",
       "    <tr>\n",
       "      <th>3</th>\n",
       "      <td>0.104959</td>\n",
       "      <td>ICA1_10_0.01</td>\n",
       "      <td>20</td>\n",
       "      <td>5</td>\n",
       "      <td>0.2</td>\n",
       "      <td>0.211338</td>\n",
       "      <td>0.069816</td>\n",
       "      <td>2</td>\n",
       "      <td>100</td>\n",
       "    </tr>\n",
       "    <tr>\n",
       "      <th>4</th>\n",
       "      <td>0.065736</td>\n",
       "      <td>ICA1_10_0.01</td>\n",
       "      <td>20</td>\n",
       "      <td>5</td>\n",
       "      <td>0.4</td>\n",
       "      <td>0.166867</td>\n",
       "      <td>0.040930</td>\n",
       "      <td>1</td>\n",
       "      <td>100</td>\n",
       "    </tr>\n",
       "  </tbody>\n",
       "</table>\n",
       "</div>"
      ],
      "text/plain": [
       "       F1rr         model  n_samples  n_sources  noise  recovery  relevance  \\\n",
       "0  0.770005  ICA1_10_0.01         20          5    0.0  0.981506   0.633496   \n",
       "1  0.774671  ICA1_10_0.01         20          5    0.0  0.984502   0.638569   \n",
       "2  0.118007  ICA1_10_0.01         20          5    0.2  0.222795   0.080259   \n",
       "3  0.104959  ICA1_10_0.01         20          5    0.2  0.211338   0.069816   \n",
       "4  0.065736  ICA1_10_0.01         20          5    0.4  0.166867   0.040930   \n",
       "\n",
       "   rep  size  \n",
       "0    1   100  \n",
       "1    2   100  \n",
       "2    1   100  \n",
       "3    2   100  \n",
       "4    1   100  "
      ]
     },
     "execution_count": 9,
     "metadata": {},
     "output_type": "execute_result"
    }
   ],
   "source": [
    "scores = []\n",
    "\n",
    "for model_params in e.model_paramlist: \n",
    "    scores += e.score_results(model_params)\n",
    "    \n",
    "scores_df = pd.DataFrame(scores)\n",
    "scores_df.head()"
   ]
  },
  {
   "cell_type": "markdown",
   "metadata": {},
   "source": [
    "### Average over replicates"
   ]
  },
  {
   "cell_type": "code",
   "execution_count": 10,
   "metadata": {},
   "outputs": [
    {
     "data": {
      "text/html": [
       "<div>\n",
       "<style scoped>\n",
       "    .dataframe tbody tr th:only-of-type {\n",
       "        vertical-align: middle;\n",
       "    }\n",
       "\n",
       "    .dataframe tbody tr th {\n",
       "        vertical-align: top;\n",
       "    }\n",
       "\n",
       "    .dataframe thead tr th {\n",
       "        text-align: left;\n",
       "    }\n",
       "\n",
       "    .dataframe thead tr:last-of-type th {\n",
       "        text-align: right;\n",
       "    }\n",
       "</style>\n",
       "<table border=\"1\" class=\"dataframe\">\n",
       "  <thead>\n",
       "    <tr>\n",
       "      <th></th>\n",
       "      <th></th>\n",
       "      <th></th>\n",
       "      <th></th>\n",
       "      <th></th>\n",
       "      <th colspan=\"2\" halign=\"left\">F1rr</th>\n",
       "      <th colspan=\"2\" halign=\"left\">recovery</th>\n",
       "      <th colspan=\"2\" halign=\"left\">relevance</th>\n",
       "    </tr>\n",
       "    <tr>\n",
       "      <th></th>\n",
       "      <th></th>\n",
       "      <th></th>\n",
       "      <th></th>\n",
       "      <th></th>\n",
       "      <th>mean</th>\n",
       "      <th>std</th>\n",
       "      <th>mean</th>\n",
       "      <th>std</th>\n",
       "      <th>mean</th>\n",
       "      <th>std</th>\n",
       "    </tr>\n",
       "    <tr>\n",
       "      <th>model</th>\n",
       "      <th>size</th>\n",
       "      <th>n_sources</th>\n",
       "      <th>n_samples</th>\n",
       "      <th>noise</th>\n",
       "      <th></th>\n",
       "      <th></th>\n",
       "      <th></th>\n",
       "      <th></th>\n",
       "      <th></th>\n",
       "      <th></th>\n",
       "    </tr>\n",
       "  </thead>\n",
       "  <tbody>\n",
       "    <tr>\n",
       "      <th rowspan=\"3\" valign=\"top\">GSD_0.1_3_ica_5</th>\n",
       "      <th rowspan=\"3\" valign=\"top\">100</th>\n",
       "      <th rowspan=\"3\" valign=\"top\">5</th>\n",
       "      <th rowspan=\"3\" valign=\"top\">20</th>\n",
       "      <th>0.0</th>\n",
       "      <td>0.010304</td>\n",
       "      <td>0.000730</td>\n",
       "      <td>0.009020</td>\n",
       "      <td>0.000270</td>\n",
       "      <td>0.012206</td>\n",
       "      <td>0.002495</td>\n",
       "    </tr>\n",
       "    <tr>\n",
       "      <th>0.2</th>\n",
       "      <td>0.008867</td>\n",
       "      <td>0.000634</td>\n",
       "      <td>0.008750</td>\n",
       "      <td>0.000452</td>\n",
       "      <td>0.008990</td>\n",
       "      <td>0.000826</td>\n",
       "    </tr>\n",
       "    <tr>\n",
       "      <th>0.4</th>\n",
       "      <td>0.008688</td>\n",
       "      <td>0.000563</td>\n",
       "      <td>0.008359</td>\n",
       "      <td>0.000862</td>\n",
       "      <td>0.009060</td>\n",
       "      <td>0.000209</td>\n",
       "    </tr>\n",
       "    <tr>\n",
       "      <th rowspan=\"2\" valign=\"top\">ICA1_10_0.01</th>\n",
       "      <th rowspan=\"2\" valign=\"top\">100</th>\n",
       "      <th rowspan=\"2\" valign=\"top\">5</th>\n",
       "      <th rowspan=\"2\" valign=\"top\">20</th>\n",
       "      <th>0.0</th>\n",
       "      <td>0.772338</td>\n",
       "      <td>0.003299</td>\n",
       "      <td>0.983004</td>\n",
       "      <td>0.002119</td>\n",
       "      <td>0.636033</td>\n",
       "      <td>0.003588</td>\n",
       "    </tr>\n",
       "    <tr>\n",
       "      <th>0.2</th>\n",
       "      <td>0.111483</td>\n",
       "      <td>0.009227</td>\n",
       "      <td>0.217066</td>\n",
       "      <td>0.008101</td>\n",
       "      <td>0.075037</td>\n",
       "      <td>0.007384</td>\n",
       "    </tr>\n",
       "  </tbody>\n",
       "</table>\n",
       "</div>"
      ],
      "text/plain": [
       "                                                    F1rr            recovery  \\\n",
       "                                                    mean       std      mean   \n",
       "model           size n_sources n_samples noise                                 \n",
       "GSD_0.1_3_ica_5 100  5         20        0.0    0.010304  0.000730  0.009020   \n",
       "                                         0.2    0.008867  0.000634  0.008750   \n",
       "                                         0.4    0.008688  0.000563  0.008359   \n",
       "ICA1_10_0.01    100  5         20        0.0    0.772338  0.003299  0.983004   \n",
       "                                         0.2    0.111483  0.009227  0.217066   \n",
       "\n",
       "                                                         relevance            \n",
       "                                                     std      mean       std  \n",
       "model           size n_sources n_samples noise                                \n",
       "GSD_0.1_3_ica_5 100  5         20        0.0    0.000270  0.012206  0.002495  \n",
       "                                         0.2    0.000452  0.008990  0.000826  \n",
       "                                         0.4    0.000862  0.009060  0.000209  \n",
       "ICA1_10_0.01    100  5         20        0.0    0.002119  0.636033  0.003588  \n",
       "                                         0.2    0.008101  0.075037  0.007384  "
      ]
     },
     "execution_count": 10,
     "metadata": {},
     "output_type": "execute_result"
    }
   ],
   "source": [
    "tmp = scores_df.groupby(by=[\"model\", \"size\", \"n_sources\", \"n_samples\", \"noise\"]).agg([np.mean, np.std]).drop(columns=['rep'])\n",
    "tmp.head()"
   ]
  },
  {
   "cell_type": "code",
   "execution_count": 11,
   "metadata": {},
   "outputs": [
    {
     "data": {
      "text/html": [
       "<div>\n",
       "<style scoped>\n",
       "    .dataframe tbody tr th:only-of-type {\n",
       "        vertical-align: middle;\n",
       "    }\n",
       "\n",
       "    .dataframe tbody tr th {\n",
       "        vertical-align: top;\n",
       "    }\n",
       "\n",
       "    .dataframe thead tr th {\n",
       "        text-align: left;\n",
       "    }\n",
       "\n",
       "    .dataframe thead tr:last-of-type th {\n",
       "        text-align: right;\n",
       "    }\n",
       "</style>\n",
       "<table border=\"1\" class=\"dataframe\">\n",
       "  <thead>\n",
       "    <tr>\n",
       "      <th></th>\n",
       "      <th></th>\n",
       "      <th></th>\n",
       "      <th></th>\n",
       "      <th></th>\n",
       "      <th colspan=\"2\" halign=\"left\">F1rr</th>\n",
       "      <th colspan=\"2\" halign=\"left\">recovery</th>\n",
       "      <th colspan=\"2\" halign=\"left\">relevance</th>\n",
       "    </tr>\n",
       "    <tr>\n",
       "      <th></th>\n",
       "      <th></th>\n",
       "      <th></th>\n",
       "      <th></th>\n",
       "      <th></th>\n",
       "      <th>mean</th>\n",
       "      <th>std</th>\n",
       "      <th>mean</th>\n",
       "      <th>std</th>\n",
       "      <th>mean</th>\n",
       "      <th>std</th>\n",
       "    </tr>\n",
       "    <tr>\n",
       "      <th>model</th>\n",
       "      <th>size</th>\n",
       "      <th>n_sources</th>\n",
       "      <th>n_samples</th>\n",
       "      <th>noise</th>\n",
       "      <th></th>\n",
       "      <th></th>\n",
       "      <th></th>\n",
       "      <th></th>\n",
       "      <th></th>\n",
       "      <th></th>\n",
       "    </tr>\n",
       "  </thead>\n",
       "  <tbody>\n",
       "    <tr>\n",
       "      <th rowspan=\"3\" valign=\"top\">ICA1_10_0.01</th>\n",
       "      <th rowspan=\"3\" valign=\"top\">100</th>\n",
       "      <th rowspan=\"3\" valign=\"top\">5</th>\n",
       "      <th rowspan=\"3\" valign=\"top\">20</th>\n",
       "      <th>0.0</th>\n",
       "      <td>0.772338</td>\n",
       "      <td>0.003299</td>\n",
       "      <td>0.983004</td>\n",
       "      <td>0.002119</td>\n",
       "      <td>0.636033</td>\n",
       "      <td>0.003588</td>\n",
       "    </tr>\n",
       "    <tr>\n",
       "      <th>0.2</th>\n",
       "      <td>0.111483</td>\n",
       "      <td>0.009227</td>\n",
       "      <td>0.217066</td>\n",
       "      <td>0.008101</td>\n",
       "      <td>0.075037</td>\n",
       "      <td>0.007384</td>\n",
       "    </tr>\n",
       "    <tr>\n",
       "      <th>0.4</th>\n",
       "      <td>0.065479</td>\n",
       "      <td>0.000363</td>\n",
       "      <td>0.172380</td>\n",
       "      <td>0.007797</td>\n",
       "      <td>0.040431</td>\n",
       "      <td>0.000706</td>\n",
       "    </tr>\n",
       "  </tbody>\n",
       "</table>\n",
       "</div>"
      ],
      "text/plain": [
       "                                                 F1rr            recovery  \\\n",
       "                                                 mean       std      mean   \n",
       "model        size n_sources n_samples noise                                 \n",
       "ICA1_10_0.01 100  5         20        0.0    0.772338  0.003299  0.983004   \n",
       "                                      0.2    0.111483  0.009227  0.217066   \n",
       "                                      0.4    0.065479  0.000363  0.172380   \n",
       "\n",
       "                                                      relevance            \n",
       "                                                  std      mean       std  \n",
       "model        size n_sources n_samples noise                                \n",
       "ICA1_10_0.01 100  5         20        0.0    0.002119  0.636033  0.003588  \n",
       "                                      0.2    0.008101  0.075037  0.007384  \n",
       "                                      0.4    0.007797  0.040431  0.000706  "
      ]
     },
     "execution_count": 11,
     "metadata": {},
     "output_type": "execute_result"
    }
   ],
   "source": [
    "tmp.query('model==\"ICA1_10_0.01\"')"
   ]
  },
  {
   "cell_type": "code",
   "execution_count": null,
   "metadata": {},
   "outputs": [],
   "source": []
  }
 ],
 "metadata": {
  "kernelspec": {
   "display_name": "Python 3",
   "language": "python",
   "name": "python3"
  },
  "language_info": {
   "codemirror_mode": {
    "name": "ipython",
    "version": 3
   },
   "file_extension": ".py",
   "mimetype": "text/x-python",
   "name": "python",
   "nbconvert_exporter": "python",
   "pygments_lexer": "ipython3",
   "version": "3.6.5"
  }
 },
 "nbformat": 4,
 "nbformat_minor": 2
}
