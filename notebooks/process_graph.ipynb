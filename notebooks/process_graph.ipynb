{
 "cells": [
  {
   "cell_type": "code",
   "execution_count": 1,
   "metadata": {},
   "outputs": [],
   "source": [
    "%load_ext autoreload\n",
    "%autoreload 2"
   ]
  },
  {
   "cell_type": "code",
   "execution_count": 2,
   "metadata": {},
   "outputs": [],
   "source": [
    "# Core python modules\n",
    "import sys, os\n",
    "import dill\n",
    "from functools import partial\n",
    "\n",
    "# Data processing\n",
    "import pandas as pd\n",
    "import numpy as np\n",
    "import scipy\n",
    "\n",
    "# Networks\n",
    "import networkx as nx\n",
    "\n",
    "# Modules\n",
    "sys.path.insert(0, '../scripts')\n",
    "from evaluation import Data\n",
    "from samplers import *\n",
    "from gsd import GSD\n",
    "from benchmarks import *"
   ]
  },
  {
   "cell_type": "code",
   "execution_count": 3,
   "metadata": {},
   "outputs": [],
   "source": [
    "# Plotting\n",
    "%matplotlib inline\n",
    "\n",
    "import matplotlib\n",
    "import matplotlib.pyplot as plt\n",
    "\n",
    "import seaborn as sns"
   ]
  },
  {
   "cell_type": "markdown",
   "metadata": {},
   "source": [
    "## STRING import"
   ]
  },
  {
   "cell_type": "code",
   "execution_count": 4,
   "metadata": {},
   "outputs": [
    {
     "data": {
      "text/html": [
       "<div>\n",
       "<style scoped>\n",
       "    .dataframe tbody tr th:only-of-type {\n",
       "        vertical-align: middle;\n",
       "    }\n",
       "\n",
       "    .dataframe tbody tr th {\n",
       "        vertical-align: top;\n",
       "    }\n",
       "\n",
       "    .dataframe thead th {\n",
       "        text-align: right;\n",
       "    }\n",
       "</style>\n",
       "<table border=\"1\" class=\"dataframe\">\n",
       "  <thead>\n",
       "    <tr style=\"text-align: right;\">\n",
       "      <th></th>\n",
       "      <th>protein1</th>\n",
       "      <th>protein2</th>\n",
       "      <th>confidence</th>\n",
       "      <th>cost</th>\n",
       "    </tr>\n",
       "  </thead>\n",
       "  <tbody>\n",
       "    <tr>\n",
       "      <th>0</th>\n",
       "      <td>A1BG</td>\n",
       "      <td>CRISP3</td>\n",
       "      <td>0.457</td>\n",
       "      <td>2.188184</td>\n",
       "    </tr>\n",
       "    <tr>\n",
       "      <th>1</th>\n",
       "      <td>A1CF</td>\n",
       "      <td>CAVIN2</td>\n",
       "      <td>0.280</td>\n",
       "      <td>3.571429</td>\n",
       "    </tr>\n",
       "    <tr>\n",
       "      <th>2</th>\n",
       "      <td>A2M</td>\n",
       "      <td>ADAM19</td>\n",
       "      <td>0.382</td>\n",
       "      <td>2.617801</td>\n",
       "    </tr>\n",
       "    <tr>\n",
       "      <th>3</th>\n",
       "      <td>A2M</td>\n",
       "      <td>ADAMTS1</td>\n",
       "      <td>0.415</td>\n",
       "      <td>2.409639</td>\n",
       "    </tr>\n",
       "    <tr>\n",
       "      <th>4</th>\n",
       "      <td>A2M</td>\n",
       "      <td>ADAMTS12</td>\n",
       "      <td>0.315</td>\n",
       "      <td>3.174603</td>\n",
       "    </tr>\n",
       "  </tbody>\n",
       "</table>\n",
       "</div>"
      ],
      "text/plain": [
       "  protein1  protein2  confidence      cost\n",
       "0     A1BG    CRISP3       0.457  2.188184\n",
       "1     A1CF    CAVIN2       0.280  3.571429\n",
       "2      A2M    ADAM19       0.382  2.617801\n",
       "3      A2M   ADAMTS1       0.415  2.409639\n",
       "4      A2M  ADAMTS12       0.315  3.174603"
      ]
     },
     "execution_count": 4,
     "metadata": {},
     "output_type": "execute_result"
    }
   ],
   "source": [
    "edgelist = pd.read_csv('../data/interactomes/string.v10.5.cleaned.namespace-mapped.exp.tsv', sep='\\t')\n",
    "edgelist = edgelist[edgelist['protein1'] != edgelist['protein2']]\n",
    "edgelist['cost'] = 1 / edgelist['confidence']\n",
    "edgelist.head()"
   ]
  },
  {
   "cell_type": "code",
   "execution_count": 5,
   "metadata": {},
   "outputs": [
    {
     "data": {
      "image/png": "[encoded data removed]",
      "text/plain": [
       "<Figure size 432x288 with 1 Axes>"
      ]
     },
     "metadata": {
      "needs_background": "light"
     },
     "output_type": "display_data"
    }
   ],
   "source": [
    "plt.hist(edgelist['cost'], bins=100);"
   ]
  },
  {
   "cell_type": "code",
   "execution_count": 6,
   "metadata": {},
   "outputs": [
    {
     "name": "stdout",
     "output_type": "stream",
     "text": [
      "Name: \n",
      "Type: Graph\n",
      "Number of nodes: 15077\n",
      "Number of edges: 176203\n",
      "Average degree:  23.3737\n"
     ]
    }
   ],
   "source": [
    "G = nx.from_pandas_edgelist(edgelist, source='protein1', target='protein2', edge_attr=['confidence', 'cost'])\n",
    "print(nx.info(G))"
   ]
  },
  {
   "cell_type": "markdown",
   "metadata": {},
   "source": [
    "## Edge penalty"
   ]
  },
  {
   "cell_type": "code",
   "execution_count": 7,
   "metadata": {},
   "outputs": [],
   "source": [
    "def get_edge_penalty(graph):\n",
    "    \n",
    "    N = len(graph.nodes)\n",
    "    degrees = dict(graph.degree(weight='cost'))\n",
    "    edge_penalties = np.array([degrees[a]*degrees[b] / ((N-degrees[a]-1) * (N-degrees[b]-1) + degrees[a]*degrees[b]) for a,b in graph.edges])\n",
    "    \n",
    "    return edge_penalties\n",
    "\n",
    "def edge_costs(graph, g):\n",
    "    \n",
    "    cost = np.array([ cost for _,_,cost in graph.edges.data('cost') ])\n",
    "    cost_new = cost + get_edge_penalty(graph) * (10**g)\n",
    "    \n",
    "    return cost_new"
   ]
  },
  {
   "cell_type": "code",
   "execution_count": 8,
   "metadata": {},
   "outputs": [],
   "source": [
    "adjusted_cost = edge_costs(G, 4)\n",
    "\n",
    "G_adj = G.copy()\n",
    "nx.set_edge_attributes(G_adj, adjusted_cost, 'cost')\n",
    "\n",
    "nx.write_gpickle(G_adj, '../data/interactomes/STRING_v10.5.experimental.costs_adj_g4.gpickle')"
   ]
  }
 ],
 "metadata": {
  "kernelspec": {
   "display_name": "Python 3",
   "language": "python",
   "name": "python3"
  },
  "language_info": {
   "codemirror_mode": {
    "name": "ipython",
    "version": 3
   },
   "file_extension": ".py",
   "mimetype": "text/x-python",
   "name": "python",
   "nbconvert_exporter": "python",
   "pygments_lexer": "ipython3",
   "version": "3.6.5"
  }
 },
 "nbformat": 4,
 "nbformat_minor": 2
}
